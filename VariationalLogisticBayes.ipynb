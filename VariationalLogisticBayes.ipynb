{
 "cells": [
  {
   "cell_type": "code",
   "execution_count": 4,
   "id": "19cbbbf3-4096-4c65-8db9-f8b7579a23ea",
   "metadata": {
    "collapsed": true,
    "jupyter": {
     "outputs_hidden": true
    },
    "tags": []
   },
   "outputs": [
    {
     "name": "stdout",
     "output_type": "stream",
     "text": [
      "Collecting pyro-ppl\n",
      "  Obtaining dependency information for pyro-ppl from https://files.pythonhosted.org/packages/f2/93/59bced321ede6eeb60061f156df8aae3f4832127fe97f4e86c567ad3b9cc/pyro_ppl-1.8.6-py3-none-any.whl.metadata\n",
      "  Downloading pyro_ppl-1.8.6-py3-none-any.whl.metadata (7.8 kB)\n",
      "Requirement already satisfied: numpy>=1.7 in /opt/conda/lib/python3.10/site-packages (from pyro-ppl) (1.23.5)\n",
      "Requirement already satisfied: opt-einsum>=2.3.2 in /opt/conda/lib/python3.10/site-packages (from pyro-ppl) (3.3.0)\n",
      "Collecting pyro-api>=0.1.1 (from pyro-ppl)\n",
      "  Downloading pyro_api-0.1.2-py3-none-any.whl (11 kB)\n",
      "Requirement already satisfied: torch>=1.11.0 in /opt/conda/lib/python3.10/site-packages (from pyro-ppl) (1.13.1)\n",
      "Requirement already satisfied: tqdm>=4.36 in /opt/conda/lib/python3.10/site-packages (from pyro-ppl) (4.66.1)\n",
      "Requirement already satisfied: typing-extensions in /opt/conda/lib/python3.10/site-packages (from torch>=1.11.0->pyro-ppl) (4.8.0)\n",
      "Requirement already satisfied: nvidia-cuda-runtime-cu11==11.7.99 in /opt/conda/lib/python3.10/site-packages (from torch>=1.11.0->pyro-ppl) (11.7.99)\n",
      "Requirement already satisfied: nvidia-cudnn-cu11==8.5.0.96 in /opt/conda/lib/python3.10/site-packages (from torch>=1.11.0->pyro-ppl) (8.5.0.96)\n",
      "Requirement already satisfied: nvidia-cublas-cu11==11.10.3.66 in /opt/conda/lib/python3.10/site-packages (from torch>=1.11.0->pyro-ppl) (11.10.3.66)\n",
      "Requirement already satisfied: nvidia-cuda-nvrtc-cu11==11.7.99 in /opt/conda/lib/python3.10/site-packages (from torch>=1.11.0->pyro-ppl) (11.7.99)\n",
      "Requirement already satisfied: setuptools in /opt/conda/lib/python3.10/site-packages (from nvidia-cublas-cu11==11.10.3.66->torch>=1.11.0->pyro-ppl) (68.2.2)\n",
      "Requirement already satisfied: wheel in /opt/conda/lib/python3.10/site-packages (from nvidia-cublas-cu11==11.10.3.66->torch>=1.11.0->pyro-ppl) (0.41.2)\n",
      "Downloading pyro_ppl-1.8.6-py3-none-any.whl (732 kB)\n",
      "\u001b[2K   \u001b[90m━━━━━━━━━━━━━━━━━━━━━━━━━━━━━━━━━━━━━━━━\u001b[0m \u001b[32m732.8/732.8 kB\u001b[0m \u001b[31m12.3 MB/s\u001b[0m eta \u001b[36m0:00:00\u001b[0m \u001b[36m0:00:01\u001b[0m\n",
      "\u001b[?25hInstalling collected packages: pyro-api, pyro-ppl\n",
      "Successfully installed pyro-api-0.1.2 pyro-ppl-1.8.6\n"
     ]
    }
   ],
   "source": [
    "!pip install pyro-ppl"
   ]
  },
  {
   "cell_type": "code",
   "execution_count": 6,
   "id": "be5d9664-c2d5-47f0-997d-de3ea6d9f3e7",
   "metadata": {},
   "outputs": [],
   "source": [
    "import numpy as np\n",
    "import pandas as pd\n",
    "import torch\n",
    "import pyro\n",
    "from pyro.distributions import Bernoulli, Normal, constraints\n",
    "from pyro.infer import SVI, Trace_ELBO\n",
    "from pyro.optim import Adam\n",
    "from pyro.infer import Predictive"
   ]
  },
  {
   "cell_type": "markdown",
   "id": "bc4e25b2-611b-4fed-9e76-d3f934edff98",
   "metadata": {},
   "source": [
    "### Fake Data"
   ]
  },
  {
   "cell_type": "code",
   "execution_count": 7,
   "id": "c8412ebe-8b6b-496b-940b-06bc2c465701",
   "metadata": {},
   "outputs": [],
   "source": [
    "# Set the random seed for reproducibility\n",
    "np.random.seed(42)\n",
    "\n",
    "# Number of data points\n",
    "num_samples = 1000\n",
    "\n",
    "# Define the true coefficients\n",
    "true_coefficients = np.array([1.5, -2.0, 0.5])  # Adjust these as needed\n",
    "\n",
    "# Generate synthetic features\n",
    "X = np.random.rand(num_samples, len(true_coefficients) - 1)\n",
    "\n",
    "# Add a column of ones for the bias term (intercept)\n",
    "X = np.hstack((np.ones((num_samples, 1)), X))\n",
    "\n",
    "# Calculate the log-odds\n",
    "log_odds = X.dot(true_coefficients)\n",
    "\n",
    "# Generate synthetic binary labels (0 or 1) based on the log-odds\n",
    "probabilities = 1 / (1 + np.exp(-log_odds))\n",
    "labels = np.random.binomial(n=1, p=probabilities)\n",
    "\n",
    "# Create a DataFrame to store the data\n",
    "data = pd.DataFrame(data={\"target\": labels})\n",
    "for i in range(X.shape[1] - 1):\n",
    "    data[f\"feature_{i}\"] = X[:, i]"
   ]
  },
  {
   "cell_type": "markdown",
   "id": "75b0a14b-415b-4355-988c-68aafdebdc92",
   "metadata": {},
   "source": [
    "### Run Model"
   ]
  },
  {
   "cell_type": "code",
   "execution_count": 8,
   "id": "c88002ee-ad9c-4997-8707-1e1271ea622e",
   "metadata": {
    "tags": []
   },
   "outputs": [],
   "source": [
    "# Pyro model and guide\n",
    "def model(data):\n",
    "    coefs = pyro.sample(\"coefs\", Normal(0, 1).expand([data.shape[1] - 1]).to_event(1))\n",
    "    logits = torch.matmul(data[:, 1:], coefs)\n",
    "    with pyro.plate(\"data\", data.shape[0]):\n",
    "        pyro.sample(\"obs\", Bernoulli(logits=logits), obs=data[:, 0])\n",
    "\n",
    "def guide(data):\n",
    "    coefs_loc = pyro.param(\"coefs_loc\", torch.zeros(data.shape[1] - 1))\n",
    "    coefs_scale = pyro.param(\"coefs_scale\", torch.ones(data.shape[1] - 1), constraint=constraints.positive)\n",
    "    pyro.sample(\"coefs\", Normal(coefs_loc, coefs_scale).to_event(1))\n",
    "\n",
    "# SVI and optimization\n",
    "pyro.clear_param_store()\n",
    "svi = SVI(model, guide, optim=Adam({\"lr\": 0.01}), loss=Trace_ELBO())\n",
    "\n",
    "# Prepare the data for PyTorch\n",
    "data_tensor = torch.tensor(data.values, dtype=torch.float)"
   ]
  },
  {
   "cell_type": "code",
   "execution_count": 9,
   "id": "32435538-546b-4331-ac08-bfbad732a384",
   "metadata": {},
   "outputs": [
    {
     "name": "stdout",
     "output_type": "stream",
     "text": [
      "Step 0: loss = 661.86\n",
      "Step 1000: loss = 616.83\n",
      "Step 2000: loss = 614.50\n",
      "Step 3000: loss = 619.43\n",
      "Step 4000: loss = 614.67\n"
     ]
    }
   ],
   "source": [
    "# Training loop\n",
    "num_steps = 5000\n",
    "for step in range(num_steps):\n",
    "    loss = svi.step(data_tensor)\n",
    "    if step % 1000 == 0:\n",
    "        print(f\"Step {step}: loss = {loss:.2f}\")"
   ]
  },
  {
   "cell_type": "code",
   "execution_count": 11,
   "id": "c310afd0-1f56-4da4-9ab5-255e56b90426",
   "metadata": {},
   "outputs": [],
   "source": [
    "# Get the parameter estimates\n",
    "posterior = svi.run(data_tensor)"
   ]
  },
  {
   "cell_type": "code",
   "execution_count": 15,
   "id": "f518ed2a-3402-4fa1-beea-503dd1912bb0",
   "metadata": {},
   "outputs": [
    {
     "name": "stdout",
     "output_type": "stream",
     "text": [
      "Estimated Coefficients: tensor([ 1.5731, -1.7550], requires_grad=True)\n"
     ]
    }
   ],
   "source": [
    "params = pyro.param(\"coefs_loc\")\n",
    "print(\"Estimated Coefficients:\",params)\n"
   ]
  },
  {
   "cell_type": "code",
   "execution_count": 35,
   "id": "2ff6f23f-1cc3-4970-aff2-a2a80a4d9221",
   "metadata": {},
   "outputs": [
    {
     "name": "stdout",
     "output_type": "stream",
     "text": [
      "10.603292783101402\n"
     ]
    }
   ],
   "source": [
    "mape = (abs((true_coefficients[0:2] - np.array(params.detach())) / true_coefficients[0:1])*100).mean()\n",
    "print(mape)"
   ]
  }
 ],
 "metadata": {
  "environment": {
   "kernel": "python3",
   "name": "common-gpu.m112",
   "type": "gcloud",
   "uri": "gcr.io/deeplearning-platform-release/base-gpu:m112"
  },
  "kernelspec": {
   "display_name": "Python 3",
   "language": "python",
   "name": "python3"
  },
  "language_info": {
   "codemirror_mode": {
    "name": "ipython",
    "version": 3
   },
   "file_extension": ".py",
   "mimetype": "text/x-python",
   "name": "python",
   "nbconvert_exporter": "python",
   "pygments_lexer": "ipython3",
   "version": "3.10.12"
  }
 },
 "nbformat": 4,
 "nbformat_minor": 5
}
